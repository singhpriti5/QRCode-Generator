{
  "nbformat": 4,
  "nbformat_minor": 0,
  "metadata": {
    "colab": {
      "name": "QRCode17.ipynb",
      "provenance": [],
      "authorship_tag": "ABX9TyNQOuszd1cmjLk+uXVJIynY"
    },
    "kernelspec": {
      "name": "python3",
      "display_name": "Python 3"
    },
    "language_info": {
      "name": "python"
    }
  },
  "cells": [
    {
      "cell_type": "code",
      "source": [
        "import qrcode"
      ],
      "metadata": {
        "id": "h-sQM03ckWgT"
      },
      "execution_count": 51,
      "outputs": []
    },
    {
      "cell_type": "code",
      "source": [
        "qr = qrcode.QRCode(version = 1,box_size = 10,border = 5)\n",
        "qr.add_data('your data')\n",
        "qr.make(fit = True)\n",
        "img = qr.make_image(fill_color = 'red',back_color = 'white')\n",
        "img.save('Github.jpg')"
      ],
      "metadata": {
        "id": "eT1PbkI00RI5"
      },
      "execution_count": 52,
      "outputs": []
    },
    {
      "cell_type": "code",
      "source": [
        "!pip install pillow"
      ],
      "metadata": {
        "colab": {
          "base_uri": "https://localhost:8080/"
        },
        "id": "dZ7qVQNr7owl",
        "outputId": "8bfe1dd9-fc6b-4d50-e3c7-a6fe5067ec7c"
      },
      "execution_count": 21,
      "outputs": [
        {
          "output_type": "stream",
          "name": "stdout",
          "text": [
            "Requirement already satisfied: pillow in /usr/local/lib/python3.7/dist-packages (7.1.2)\n"
          ]
        }
      ]
    },
    {
      "cell_type": "code",
      "source": [
        "# import modules\n",
        "import qrcode\n",
        "from PIL import Image\n",
        "from qrcode.image.styledpil import StyledPilImage\n",
        "from  qrcode.image.styles.moduledrawers import RoundedModuleDrawer\n",
        "\n",
        "# taking image which user wants\n",
        "Logo_link = 'image.jpg'\n",
        "\n",
        "logo = Image.open(Logo_link)\n",
        "\n",
        "# taking base width\n",
        "basewidth = 100\n",
        "\n",
        "# adjust image size\n",
        "wpercent = (basewidth/float(logo.size[0]))\n",
        "hsize = int((float(logo.size[1])*float(wpercent)))\n",
        "logo = logo.resize((basewidth, hsize), Image.ANTIALIAS)\n",
        "QRcode = qrcode.QRCode(\n",
        "\terror_correction=qrcode.constants.ERROR_CORRECT_H\n",
        ")\n",
        "\n",
        "qr = qrcode.QRCode(version=4, box_size=10, border=4, \\\n",
        "error_correction=qrcode.constants.ERROR_CORRECT_H)\n",
        "\n",
        "# taking url or text\n",
        "url = 'your data'\n",
        "\n",
        "# adding URL or text to QRcode\n",
        "QRcode.add_data(url)\n",
        "\n",
        "# generating QR code\n",
        "QRcode.make()\n",
        "\n",
        "# adding color to QR code\n",
        "QRimg = QRcode.make_image(image_factory=StyledPilImage,module_drawer = RoundedModuleDrawer(), back_color=\"white\").convert('RGB')\n",
        "# set size of QR code\n",
        "pos = ((QRimg.size[0] - logo.size[0]) // 2,\n",
        "\t(QRimg.size[1] - logo.size[1]) // 2)\n",
        "QRimg.paste(logo, pos)\n",
        "\n",
        "# save the QR code generated\n",
        "QRimg.save('link.png')\n",
        "\n",
        "print('QR code generated!')\n"
      ],
      "metadata": {
        "colab": {
          "base_uri": "https://localhost:8080/"
        },
        "id": "1mDq2mXo6woF",
        "outputId": "d87145f1-7e26-4720-9d3e-25bea97f6b42"
      },
      "execution_count": 50,
      "outputs": [
        {
          "output_type": "stream",
          "name": "stdout",
          "text": [
            "QR code generated!\n"
          ]
        }
      ]
    }
  ]
}